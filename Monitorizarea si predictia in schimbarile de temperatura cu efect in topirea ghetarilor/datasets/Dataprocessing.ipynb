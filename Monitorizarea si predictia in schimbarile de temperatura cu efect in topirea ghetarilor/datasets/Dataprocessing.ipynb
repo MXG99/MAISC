{
 "cells": [
  {
   "cell_type": "markdown",
   "metadata": {},
   "source": [
    "# Data processing\n",
    "---\n"
   ]
  },
  {
   "cell_type": "code",
   "execution_count": 10,
   "metadata": {},
   "outputs": [],
   "source": [
    "import pandas as pd\n",
    "import csv\n",
    "\n",
    "romania_dataset = pd.read_csv(\"RomaniaData.csv\")\n",
    "bucuresti_dataset = pd.read_csv(\"Bucuresti.csv\")\n",
    "\n",
    "header = [\"t_chg\", \"date\", \"tavg\", \"tmin\", \"tmax\"]\n",
    "with open('RomaniaDataV2.csv', 'w', encoding='UTF-8', newline='') as f:\n",
    "    writer = csv.writer(f)\n",
    "    writer.writerow(header)\n",
    "    for row1, row2 in zip(romania_dataset.itertuples(), bucuresti_dataset.itertuples()):\n",
    "        list = [row1.t_chg, row1.date, row2.tavg, row2.tmin, row2.tmax]\n",
    "        new_row = [str(i) for i in list]\n",
    "        writer.writerow(new_row)\n"
   ]
  }
 ],
 "metadata": {
  "interpreter": {
   "hash": "b95d35a8728e2e8864a6aa1964fbc5dcbfd9c938e9cc14663986e38c332bb26b"
  },
  "kernelspec": {
   "display_name": "Python 3.9.7 64-bit",
   "language": "python",
   "name": "python3"
  },
  "language_info": {
   "codemirror_mode": {
    "name": "ipython",
    "version": 3
   },
   "file_extension": ".py",
   "mimetype": "text/x-python",
   "name": "python",
   "nbconvert_exporter": "python",
   "pygments_lexer": "ipython3",
   "version": "3.9.7"
  },
  "orig_nbformat": 4
 },
 "nbformat": 4,
 "nbformat_minor": 2
}
